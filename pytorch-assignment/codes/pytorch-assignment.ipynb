{
 "cells": [
  {
   "cell_type": "markdown",
   "metadata": {},
   "source": [
    "# EE 25614: Neuroscience of Learning, Memory, & Cognition\n",
    "## Fall 2018\n",
    "## PyTorch Tutorial Assignment\n",
    "### Deadline: November 2, 2018\n",
    "\n",
    "### Name: \n",
    "### Student ID:\n",
    "\n",
    "\n",
    "In this assignment, you are tasked with implementing and training a simple recurrent neural network model using PyTorch. You will use this network to solve two tasks."
   ]
  },
  {
   "cell_type": "markdown",
   "metadata": {},
   "source": [
    "\n",
    "\n",
    "These are the steps you should take to complete this assignment:\n",
    "1. Implement VanillaRNN class.\n",
    "2. Train the network with the datasets you have generated. Visualize how loss changes through epochs.\n",
    "4. Retrain the data using different sets of parameters. Report and visualize how changing each parameter changes loss. These parameters include:\n",
    "    - Learning rate\n",
    "    - Hidden layer size\n",
    "    - Batch size\n",
    "    - Number of Epochs\n",
    "5. Report the parameters of your best network. Run the network on test data and visualize some examples of denoised signals the network makes.\n",
    "6. Visualize activity of specific neurons through time as they process data in the parity task. Set hidden layer size to a small number for better visuals.\n",
    "\n",
    "After completing the assignment, upload this notebook in a zip file with your student ID as its name on the CW website.\n",
    "\n",
    "You should write all of the codes by yourself. Copying codes that are available on the internet or your classmates have written is prohibited.\n",
    "\n",
    "If you have any questions about this assignment, please ask them on Piazza."
   ]
  },
  {
   "cell_type": "markdown",
   "metadata": {},
   "source": [
    "# Part 0: Generating datasets for two tasks.\n",
    "You should write code that generates training and test datasets for each of the tasks below.\n"
   ]
  },
  {
   "cell_type": "markdown",
   "metadata": {},
   "source": [
    "## Task 1: Predicting parity bit of a bit vector"
   ]
  },
  {
   "cell_type": "code",
   "execution_count": 2,
   "metadata": {},
   "outputs": [
    {
     "name": "stdout",
     "output_type": "stream",
     "text": [
      "tensor([0., 1., 0., 0., 0., 1., 0., 1., 1., 0.])\n",
      "tensor([0., 1., 1., 1., 1., 0., 0., 1., 0., 0.], dtype=torch.float64)\n"
     ]
    }
   ],
   "source": [
    "import torch\n",
    "import torch.nn as nn\n",
    "from torch.autograd import Variable\n",
    "import numpy as np\n",
    "\n",
    "def parity_generator(N,L):\n",
    "    X = np.random.randint(0,2,(N,L))\n",
    "    Y = np.zeros((N,L))\n",
    "    for i in range (L):\n",
    "        Y[:,i] = np.sum(X[:,0:i+1],1)%2\n",
    "    X = torch.from_numpy(X).float()\n",
    "    Y = torch.from_numpy(Y).double()\n",
    "    return X, Y\n",
    "\n",
    "# testing the generator\n",
    "N = 1000\n",
    "L = 10\n",
    "X, Y = parity_generator(N,L)\n",
    "print(X[0,:])\n",
    "print(Y[0,:])\n"
   ]
  },
  {
   "cell_type": "markdown",
   "metadata": {},
   "source": [
    "## Task 2: Predicting a denoised sine wave from a noisy signal\n",
    "\n"
   ]
  },
  {
   "cell_type": "code",
   "execution_count": 4,
   "metadata": {},
   "outputs": [
    {
     "data": {
      "image/png": "[encoded data removed]",
      "text/plain": [
       "<Figure size 432x288 with 1 Axes>"
      ]
     },
     "metadata": {
      "needs_background": "light"
     },
     "output_type": "display_data"
    }
   ],
   "source": [
    "import matplotlib.pylab as plt\n",
    "\n",
    "\n",
    "def sine_generator(N,L):\n",
    "    X = np.zeros((N,L))\n",
    "    Y = np.zeros((N,L))\n",
    "    x = np.linspace(-np.pi, np.pi, L)\n",
    "    amplitude = np.random.randn(N,1) * np.ones((N,L))\n",
    "    Y = 10*np.sin(x)*amplitude\n",
    "    X = Y + 0.5*np.random.randn(N,L)\n",
    "    X = torch.from_numpy(X)\n",
    "    Y = torch.from_numpy(Y)\n",
    "    return X, Y\n",
    "\n",
    "\n",
    "# testing the generator\n",
    "x = np.linspace(-np.pi, np.pi, L)\n",
    "N = 1000\n",
    "L=300\n",
    "X, Y = sine_generator(N,L)\n",
    "\n",
    "plt.plot(x,np.array(X[120,:]))\n",
    "plt.show()\n"
   ]
  },
  {
   "cell_type": "markdown",
   "metadata": {},
   "source": [
    "# Part 1: Vanilla RNN\n",
    "\n",
    "Equations of a forward pass in a simple RNN network looks like this:\n",
    "\n",
    "$s_{t}=f(Ux_{t}+b_{U}+Ws_{t-1}+b_{W})$\n",
    "\n",
    "$o_{t}=f'(Vs_{t}+b_{V})$\n",
    "\n",
    "Where:\n",
    "\n",
    "$s_{t}$: Hidden state of RNN at time step t.\n",
    "\n",
    "$x_{t}$: Input at time step t.\n",
    "\n",
    "$U$: Learnable weight matrix for connections between the hidden state and input.\n",
    "\n",
    "$W$: Learnable weight matrix for connections between the hidden states.\n",
    "\n",
    "$V$: Learnable weight matrix for connections between the hidden state and output.\n",
    "\n",
    "$o_{t}$: Output at time step t.\n",
    "\n",
    "$f$ and $f'$: Nonlineartiy functions such as tanh, ReLU, & Softmax\n",
    "\n",
    "$b_{U}$, $b_{W}$, and $b_{V}$: Bias terms\n",
    "\n",
    "We talked what the bias term does in the class. In practice, bias terms are not held separately. Using the bias trick, we can store $W$ and bias term of a linear model $y=Wx+b$ in a single matrix. \n",
    "![The bias trick](../media/wb.jpg)\n",
    "Using the bias trick, the equations of RNN are reduce to the following:\n",
    "\n",
    "$s_{t}=f(Ux_{t}+Ws_{t-1})$\n",
    "\n",
    "$o_{t}=f'(Vs_{t})$\n",
    "\n",
    "PyTorch's $nn$ module has a function for a linear models such as $y=Wx+b$. Set $f$ and $f'$ to to *tanh*."
   ]
  },
  {
   "cell_type": "code",
   "execution_count": 7,
   "metadata": {},
   "outputs": [],
   "source": [
    "import torch\n",
    "import torch.nn as nn\n",
    "from torch.autograd import Variable\n",
    "\n",
    "class RNN(nn.Module):\n",
    "    def __init__(self, input_size, hidden_size, output_size):\n",
    "        super(RNN, self).__init__()\n",
    "        \n",
    "        self.input_size = input_size\n",
    "        self.hidden_size = hidden_size\n",
    "        self.output_size = output_size\n",
    "        \n",
    "        self.input2hidden = nn.Linear(input_size, hidden_size)\n",
    "        self.hidden2hidden = nn.Linear(hidden_size, hidden_size)\n",
    "        self.hidden2output = nn.Linear(hidden_size, output_size)\n",
    "        self.NonlinearFunc = nn.Tanh()\n",
    "    \n",
    "    def forward(self, input, hidden):\n",
    "        hidden = self.input2hidden(input) + self.hidden2hidden(hidden)\n",
    "        output = self.NonlinearFunc(self.hidden2output(hidden))\n",
    "        return output, hidden\n",
    "\n",
    "    def init_hidden(self):\n",
    "        return Variable(torch.zeros(1, self.hidden_size))\n",
    "    \n",
    "    \n",
    "#params = list(rnn.parameters())\n",
    "#print(len(params))\n",
    "#print(params[0].size())\n"
   ]
  },
  {
   "cell_type": "code",
   "execution_count": 16,
   "metadata": {},
   "outputs": [
    {
     "name": "stdout",
     "output_type": "stream",
     "text": [
      "torch.Size([10, 20])\n",
      "tensor(0.0018, dtype=torch.float64, grad_fn=<MseLossBackward>)\n",
      "tensor([ 0.9575, -0.0027,  0.9686,  0.0247,  0.9853,  0.9157,  0.9693,  0.9707,\n",
      "         0.0223,  0.9242, -0.0178,  0.0310, -0.0018, -0.0360,  0.0183,  0.0144,\n",
      "         0.9222,  0.0065,  0.9192,  0.9576],\n",
      "       dtype=torch.float64, grad_fn=<CopySlices>)\n",
      "tensor([1., 0., 1., 0., 1., 1., 1., 1., 0., 1., 0., 0., 0., 0., 0., 0., 1., 0.,\n",
      "        1., 1.], dtype=torch.float64)\n",
      "tensor([0., 0., 0., 0., 0., 0., 0., 0., 0., 0., 0., 0., 0., 0., 0., 0., 0., 0.,\n",
      "        0., 0.], dtype=torch.float64)\n",
      "tensor(100., dtype=torch.float64)\n"
     ]
    }
   ],
   "source": [
    "def predictor(output):\n",
    "    return (output>0.5).double()    \n",
    "\n",
    "rnn = RNN(input_size=1, hidden_size=100, output_size=1)\n",
    "number_of_epochs = 10000\n",
    "L = 20\n",
    "N = 10\n",
    "input, target = parity_generator(N,L)\n",
    "print(input.size())\n",
    "#target = target.view(-1)\n",
    "#targer = target.float()\n",
    "for epochs in range(number_of_epochs):\n",
    "\n",
    "    criterion = nn.MSELoss()\n",
    "\n",
    "    learning_rate = 0.001\n",
    "\n",
    "    optimizer = torch.optim.SGD(rnn.parameters(), lr=learning_rate)\n",
    "\n",
    "    hidden = rnn.init_hidden()\n",
    "    \n",
    "    OUT = torch.tensor(np.zeros(L))\n",
    "#    for i in range (int(L/2)):\n",
    "#        rnn.zero_grad()\n",
    "#        for j in range (2):\n",
    "#            output, hidden = rnn(input[0,2*i+j].unsqueeze(0), hidden)\n",
    "#            OUT[2*i+j] = output\n",
    "#        loss = criterion(OUT[2*i:2*i+1].double().squeeze(), target[0,i:i+1])\n",
    "#        loss.backward(retain_graph=True)\n",
    "#        optimizer.step()\n",
    "    rnn.zero_grad()\n",
    "    for j in range (L):\n",
    "        output, hidden = rnn(input[0,j].unsqueeze(0), hidden)\n",
    "        OUT[j] = output\n",
    "    loss = criterion(OUT.double(), target[0,:])\n",
    "    loss.backward()\n",
    "    optimizer.step()\n",
    "print(loss)\n",
    "OUTPUT = predictor(OUT)\n",
    "E = abs(OUTPUT-target[0,:])\n",
    "print(OUT)\n",
    "print(target[0,:])\n",
    "print(E)\n",
    "true_percentage = 100*(1-sum(E)/L)\n",
    "print(true_percentage)\n",
    "\n",
    "        #return output, loss.data[0]"
   ]
  },
  {
   "cell_type": "code",
   "execution_count": 767,
   "metadata": {},
   "outputs": [
    {
     "name": "stdout",
     "output_type": "stream",
     "text": [
      "tensor(0.0082, dtype=torch.float64, grad_fn=<MseLossBackward>)\n",
      "tensor([0., 1., 0., 0., 1., 0., 1., 0., 1., 1., 1., 1., 0., 1., 1., 1., 1., 1.,\n",
      "        1., 0.], dtype=torch.float64)\n",
      "tensor(0.7000, dtype=torch.float64)\n"
     ]
    }
   ],
   "source": [
    "number_of_epochs = 1000\n",
    "L = 20\n",
    "input = Variable(torch.randint(0,2,(L,)))\n",
    "target = np.zeros(L)\n",
    "for i in range (input.size()[0]):\n",
    "    target[i] = torch.sum(input[:i+1])%2\n",
    "target = torch.from_numpy(target, )\n",
    "target = target.view(-1)\n",
    "targer = target.float()\n",
    "\n",
    "hidden = rnn.init_hidden()\n",
    "O = torch.tensor(np.zeros(L))\n",
    "for i in range (L):\n",
    "    #def train(category_tensor, line_tensor):\n",
    "    rnn.zero_grad()\n",
    "    #print(hidden)\n",
    "    #for i in range(input.size()[0]):\n",
    "    output, hidden = rnn(input[i].unsqueeze(0), hidden)\n",
    "    O[i] = output\n",
    "\n",
    "\n",
    "print(loss)\n",
    "OUTPUT = predictor(O)\n",
    "E = abs(OUTPUT-target)\n",
    "print(OUTPUT)\n",
    "print(1-sum(E)/L)\n",
    "#print((((predictor(O)).float()-(target==1).float)))\n",
    "#print(.sum().float()/L)\n",
    "\n",
    "        #return output, loss.data[0]"
   ]
  },
  {
   "cell_type": "code",
   "execution_count": null,
   "metadata": {},
   "outputs": [],
   "source": []
  },
  {
   "cell_type": "code",
   "execution_count": null,
   "metadata": {},
   "outputs": [],
   "source": []
  }
 ],
 "metadata": {
  "kernelspec": {
   "display_name": "Python 3",
   "language": "python",
   "name": "python3"
  },
  "language_info": {
   "codemirror_mode": {
    "name": "ipython",
    "version": 3
   },
   "file_extension": ".py",
   "mimetype": "text/x-python",
   "name": "python",
   "nbconvert_exporter": "python",
   "pygments_lexer": "ipython3",
   "version": "3.6.5"
  }
 },
 "nbformat": 4,
 "nbformat_minor": 2
}
