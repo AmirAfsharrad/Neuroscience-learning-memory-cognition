{
 "cells": [
  {
   "cell_type": "markdown",
   "metadata": {},
   "source": [
    "# EE 25614: Neuroscience of Learning, Memory, & Cognition\n",
    "## Fall 2018\n",
    "## PyTorch Tutorial Assignment\n",
    "### Deadline: November 2, 2018\n",
    "\n",
    "### Name: \n",
    "### Student ID:\n",
    "\n",
    "\n",
    "In this assignment, you are tasked with implementing and training a simple recurrent neural network model using PyTorch. You will use this network to solve two tasks."
   ]
  },
  {
   "cell_type": "markdown",
   "metadata": {},
   "source": [
    "\n",
    "\n",
    "These are the steps you should take to complete this assignment:\n",
    "1. Implement VanillaRNN class.\n",
    "2. Train the network with the datasets you have generated. Visualize how loss changes through epochs.\n",
    "4. Retrain the data using different sets of parameters. Report and visualize how changing each parameter changes loss. These parameters include:\n",
    "    - Learning rate\n",
    "    - Hidden layer size\n",
    "    - Batch size\n",
    "    - Number of Epochs\n",
    "5. Report the parameters of your best network. Run the network on test data and visualize some examples of denoised signals the network makes.\n",
    "6. Visualize activity of specific neurons through time as they process data in the parity task. Set hidden layer size to a small number for better visuals.\n",
    "\n",
    "After completing the assignment, upload this notebook in a zip file with your student ID as its name on the CW website.\n",
    "\n",
    "You should write all of the codes by yourself. Copying codes that are available on the internet or your classmates have written is prohibited.\n",
    "\n",
    "If you have any questions about this assignment, please ask them on Piazza."
   ]
  },
  {
   "cell_type": "markdown",
   "metadata": {},
   "source": [
    "# Part 0: Generating datasets for two tasks.\n",
    "You should write code that generates training and test datasets for each of the tasks below.\n"
   ]
  },
  {
   "cell_type": "markdown",
   "metadata": {},
   "source": [
    "## Task 1: Predicting parity bit of a bit vector"
   ]
  },
  {
   "cell_type": "code",
   "execution_count": 1,
   "metadata": {},
   "outputs": [
    {
     "name": "stdout",
     "output_type": "stream",
     "text": [
      "tensor([0., 0., 1., 0., 1., 0., 0., 1., 1., 1.])\n",
      "tensor([0., 0., 1., 1., 0., 0., 0., 1., 0., 1.], dtype=torch.float64)\n"
     ]
    }
   ],
   "source": [
    "import torch\n",
    "import torch.nn as nn\n",
    "from torch.autograd import Variable\n",
    "import numpy as np\n",
    "\n",
    "def parity_generator(N,L):\n",
    "    X = np.random.randint(0,2,(N,L))\n",
    "    Y = np.zeros((N,L))\n",
    "    for i in range (L):\n",
    "        Y[:,i] = np.sum(X[:,0:i+1],1)%2\n",
    "    X = torch.from_numpy(X).float()\n",
    "    Y = torch.from_numpy(Y).double()\n",
    "    return X, Y\n",
    "\n",
    "# testing the generator\n",
    "N = 1000\n",
    "L = 10\n",
    "X, Y = parity_generator(N,L)\n",
    "print(X[0,:])\n",
    "print(Y[0,:])\n"
   ]
  },
  {
   "cell_type": "markdown",
   "metadata": {},
   "source": [
    "## Task 2: Predicting a denoised sine wave from a noisy signal\n",
    "\n"
   ]
  },
  {
   "cell_type": "code",
   "execution_count": 4,
   "metadata": {},
   "outputs": [
    {
     "data": {
      "image/png": "[encoded data removed]",
      "text/plain": [
       "<Figure size 432x288 with 1 Axes>"
      ]
     },
     "metadata": {
      "needs_background": "light"
     },
     "output_type": "display_data"
    }
   ],
   "source": [
    "import matplotlib.pylab as plt\n",
    "\n",
    "\n",
    "def sine_generator(N,L):\n",
    "    X = np.zeros((N,L))\n",
    "    Y = np.zeros((N,L))\n",
    "    x = np.linspace(-np.pi, np.pi, L)\n",
    "    amplitude = np.random.randn(N,1) * np.ones((N,L))\n",
    "    Y = 10*np.sin(x)*amplitude\n",
    "    X = Y + 0.5*np.random.randn(N,L)\n",
    "    X = torch.from_numpy(X)\n",
    "    Y = torch.from_numpy(Y)\n",
    "    return X, Y\n",
    "\n",
    "\n",
    "# testing the generator\n",
    "x = np.linspace(-np.pi, np.pi, L)\n",
    "N = 1000\n",
    "L=300\n",
    "X, Y = sine_generator(N,L)\n",
    "\n",
    "plt.plot(x,np.array(X[120,:]))\n",
    "plt.show()\n"
   ]
  },
  {
   "cell_type": "markdown",
   "metadata": {},
   "source": [
    "# Part 1: Vanilla RNN\n",
    "\n",
    "Equations of a forward pass in a simple RNN network looks like this:\n",
    "\n",
    "$s_{t}=f(Ux_{t}+b_{U}+Ws_{t-1}+b_{W})$\n",
    "\n",
    "$o_{t}=f'(Vs_{t}+b_{V})$\n",
    "\n",
    "Where:\n",
    "\n",
    "$s_{t}$: Hidden state of RNN at time step t.\n",
    "\n",
    "$x_{t}$: Input at time step t.\n",
    "\n",
    "$U$: Learnable weight matrix for connections between the hidden state and input.\n",
    "\n",
    "$W$: Learnable weight matrix for connections between the hidden states.\n",
    "\n",
    "$V$: Learnable weight matrix for connections between the hidden state and output.\n",
    "\n",
    "$o_{t}$: Output at time step t.\n",
    "\n",
    "$f$ and $f'$: Nonlineartiy functions such as tanh, ReLU, & Softmax\n",
    "\n",
    "$b_{U}$, $b_{W}$, and $b_{V}$: Bias terms\n",
    "\n",
    "We talked what the bias term does in the class. In practice, bias terms are not held separately. Using the bias trick, we can store $W$ and bias term of a linear model $y=Wx+b$ in a single matrix. \n",
    "![The bias trick](../media/wb.jpg)\n",
    "Using the bias trick, the equations of RNN are reduce to the following:\n",
    "\n",
    "$s_{t}=f(Ux_{t}+Ws_{t-1})$\n",
    "\n",
    "$o_{t}=f'(Vs_{t})$\n",
    "\n",
    "PyTorch's $nn$ module has a function for a linear models such as $y=Wx+b$. Set $f$ and $f'$ to to *tanh*."
   ]
  },
  {
   "cell_type": "code",
   "execution_count": 5,
   "metadata": {},
   "outputs": [],
   "source": [
    "import torch\n",
    "import torch.nn as nn\n",
    "from torch.autograd import Variable\n",
    "\n",
    "class RNN(nn.Module):\n",
    "    def __init__(self, input_size, hidden_size, output_size):\n",
    "        super(RNN, self).__init__()\n",
    "        \n",
    "        self.input_size = input_size\n",
    "        self.hidden_size = hidden_size\n",
    "        self.output_size = output_size\n",
    "        \n",
    "        self.input2hidden = nn.Linear(input_size, hidden_size)\n",
    "        self.hidden2hidden = nn.Linear(hidden_size, hidden_size)\n",
    "        self.hidden2output = nn.Linear(hidden_size, output_size)\n",
    "        self.NonlinearFunc = nn.Tanh()\n",
    "    \n",
    "    def forward(self, input, hidden):\n",
    "        hidden = self.input2hidden(input) + self.hidden2hidden(hidden)\n",
    "        output = self.NonlinearFunc(self.hidden2output(hidden))\n",
    "        return output, hidden\n",
    "\n",
    "    def init_hidden(self):\n",
    "        return Variable(torch.zeros(1, self.hidden_size))\n",
    "    \n",
    "    \n",
    "#params = list(rnn.parameters())\n",
    "#print(len(params))\n",
    "#print(params[0].size())\n"
   ]
  },
  {
   "cell_type": "code",
   "execution_count": 8,
   "metadata": {},
   "outputs": [
    {
     "name": "stdout",
     "output_type": "stream",
     "text": [
      "20\n",
      "torch.Size([100, 10])\n",
      "0\n",
      "loss= tensor(0.4888, dtype=torch.float64, grad_fn=<L1LossBackward>)\n",
      "50\n",
      "loss= tensor(0.4444, dtype=torch.float64, grad_fn=<L1LossBackward>)\n",
      "100\n",
      "loss= tensor(0.4416, dtype=torch.float64, grad_fn=<L1LossBackward>)\n",
      "150\n",
      "loss= tensor(0.4391, dtype=torch.float64, grad_fn=<L1LossBackward>)\n",
      "200\n",
      "loss= tensor(0.4366, dtype=torch.float64, grad_fn=<L1LossBackward>)\n",
      "250\n",
      "loss= tensor(0.4342, dtype=torch.float64, grad_fn=<L1LossBackward>)\n",
      "300\n",
      "loss= tensor(0.4320, dtype=torch.float64, grad_fn=<L1LossBackward>)\n",
      "350\n",
      "loss= tensor(0.4300, dtype=torch.float64, grad_fn=<L1LossBackward>)\n",
      "400\n",
      "loss= tensor(0.4286, dtype=torch.float64, grad_fn=<L1LossBackward>)\n",
      "450\n",
      "loss= tensor(0.4273, dtype=torch.float64, grad_fn=<L1LossBackward>)\n",
      "500\n",
      "loss= tensor(0.4262, dtype=torch.float64, grad_fn=<L1LossBackward>)\n",
      "550\n",
      "loss= tensor(0.4253, dtype=torch.float64, grad_fn=<L1LossBackward>)\n",
      "600\n",
      "loss= tensor(0.4246, dtype=torch.float64, grad_fn=<L1LossBackward>)\n",
      "650\n",
      "loss= tensor(0.4240, dtype=torch.float64, grad_fn=<L1LossBackward>)\n",
      "700\n",
      "loss= tensor(0.4233, dtype=torch.float64, grad_fn=<L1LossBackward>)\n",
      "750\n",
      "loss= tensor(0.4227, dtype=torch.float64, grad_fn=<L1LossBackward>)\n",
      "800\n",
      "loss= tensor(0.4220, dtype=torch.float64, grad_fn=<L1LossBackward>)\n",
      "850\n",
      "loss= tensor(0.4214, dtype=torch.float64, grad_fn=<L1LossBackward>)\n",
      "900\n",
      "loss= tensor(0.4208, dtype=torch.float64, grad_fn=<L1LossBackward>)\n",
      "950\n",
      "loss= tensor(0.4202, dtype=torch.float64, grad_fn=<L1LossBackward>)\n",
      "tensor([[ 0.6233,  0.4941,  0.1803,  0.2916,  0.2110,  0.0554,  0.0225, -0.0008,\n",
      "         -0.0245,  0.1911],\n",
      "        [ 0.6233,  0.5273,  0.1984,  0.0668,  0.0411,  0.0083,  0.2016,  0.3503,\n",
      "          0.3557,  0.0808],\n",
      "        [ 0.6233,  0.5273,  0.1549,  0.0481,  0.2679,  0.1357,  0.2286,  0.3561,\n",
      "          0.1583, -0.0349],\n",
      "        [ 0.6233,  0.4941,  0.1803,  0.2500,  0.1930,  0.2392,  0.0867,  0.2376,\n",
      "          0.3309,  0.1368],\n",
      "        [ 0.6233,  0.4941,  0.1803,  0.2916,  0.1677,  0.0366,  0.2080,  0.1523,\n",
      "          0.2506,  0.1389]], dtype=torch.float64, grad_fn=<CopySlices>)\n",
      "tensor([[1., 1., 0., 1., 0., 1., 0., 0., 0., 0.],\n",
      "        [1., 0., 1., 0., 0., 0., 0., 1., 0., 0.],\n",
      "        [1., 0., 0., 1., 1., 1., 0., 1., 0., 0.],\n",
      "        [1., 1., 0., 0., 1., 1., 1., 0., 0., 1.],\n",
      "        [1., 1., 0., 1., 1., 0., 0., 1., 0., 1.]], dtype=torch.float64)\n",
      "tensor([[0., 1., 0., 1., 0., 1., 0., 0., 0., 0.],\n",
      "        [0., 1., 1., 0., 0., 0., 0., 1., 0., 0.],\n",
      "        [0., 1., 0., 1., 1., 1., 0., 1., 0., 0.],\n",
      "        [0., 1., 0., 0., 1., 1., 1., 0., 0., 1.],\n",
      "        [0., 1., 0., 1., 1., 0., 0., 1., 0., 1.]], dtype=torch.float64)\n",
      "tensor(58.0000, dtype=torch.float64)\n",
      "tensor([[ 1.1706, -2.1057,  1.4110,  2.4670,  0.7905]], grad_fn=<ThAddBackward>) torch.Size([1, 5])\n"
     ]
    }
   ],
   "source": [
    "def predictor(output):\n",
    "    return (output>0.5).double()    \n",
    "\n",
    "rnn = RNN(input_size=1, hidden_size=5, output_size=1)\n",
    "number_of_epochs = 1000\n",
    "L = 10\n",
    "N = 100\n",
    "batch_size = 5\n",
    "num_of_batches = int(N/batch_size)\n",
    "print(num_of_batches)\n",
    "input, target = parity_generator(N,L)\n",
    "print(input.size())\n",
    "for epochs in range(number_of_epochs):\n",
    "    criterion = nn.L1Loss()\n",
    "\n",
    "    learning_rate = 0.001\n",
    "\n",
    "    optimizer = torch.optim.SGD(rnn.parameters(), lr=learning_rate)\n",
    "  #  optimizer = torch.optim.Adam(rnn.parameters(), lr=learning_rate)\n",
    "\n",
    "    \n",
    "    \n",
    "    OUT = torch.tensor(np.zeros((batch_size, L)))\n",
    "\n",
    "    rnn.zero_grad()\n",
    "    \n",
    "    for k in range (num_of_batches):\n",
    "        for i in range (batch_size):\n",
    "            hidden = rnn.init_hidden()\n",
    "            for j in range (L):\n",
    "                output, hidden = rnn(input[k*batch_size+i,j].unsqueeze(0), hidden)\n",
    "                OUT[i,j] = output\n",
    "                #loss += criterion(output.double(), target[k*batch_size+i,j].unsqueeze(0).unsqueeze(0))\n",
    "    loss = criterion(OUT.double(), target[k*batch_size:(k+1)*batch_size,:])\n",
    "    loss.backward()\n",
    "    optimizer.step()\n",
    "    \n",
    "    if (epochs%50==0):\n",
    "        print(epochs)\n",
    "        print('loss=',loss)\n",
    "OUTPUT = predictor(OUT)\n",
    "E = abs(OUTPUT-target[k*batch_size:(k+1)*batch_size,:])\n",
    "print(OUT)\n",
    "print(target[k*batch_size:(k+1)*batch_size,:])\n",
    "print(E)\n",
    "true_percentage = 100*(1-torch.sum(E)/(batch_size*L))\n",
    "print(true_percentage)\n",
    "print(hidden, hidden.size())\n",
    "\n",
    "        #return output, loss.data[0]"
   ]
  },
  {
   "cell_type": "code",
   "execution_count": 50,
   "metadata": {},
   "outputs": [
    {
     "name": "stdout",
     "output_type": "stream",
     "text": [
      "tensor([[1., 1., 0., 0., 0., 0., 0., 1., 1., 0.]], dtype=torch.float64)\n",
      "tensor(0.6000, dtype=torch.float64)\n"
     ]
    }
   ],
   "source": [
    "number_of_epochs = 1000\n",
    "input, target = parity_generator(1,L)\n",
    "\n",
    "hidden = rnn.init_hidden()\n",
    "O = torch.tensor(np.zeros(L))\n",
    "for i in range (L):\n",
    "    rnn.zero_grad()\n",
    "    output, hidden = rnn(input[0,i].unsqueeze(0), hidden)\n",
    "    O[i] = output\n",
    "\n",
    "\n",
    "#print(loss)\n",
    "OUTPUT = predictor(O)\n",
    "E = abs(OUTPUT-target)\n",
    "print(E)\n",
    "#print(OUTPUT)\n",
    "print(1-torch.sum(E)/L)\n",
    "#print((((predictor(O)).float()-(target==1).float)))\n",
    "#print(.sum().float()/L)\n",
    "\n",
    "        #return output, loss.data[0]"
   ]
  },
  {
   "cell_type": "code",
   "execution_count": null,
   "metadata": {},
   "outputs": [],
   "source": []
  },
  {
   "cell_type": "code",
   "execution_count": null,
   "metadata": {},
   "outputs": [],
   "source": []
  }
 ],
 "metadata": {
  "kernelspec": {
   "display_name": "Python 3",
   "language": "python",
   "name": "python3"
  },
  "language_info": {
   "codemirror_mode": {
    "name": "ipython",
    "version": 3
   },
   "file_extension": ".py",
   "mimetype": "text/x-python",
   "name": "python",
   "nbconvert_exporter": "python",
   "pygments_lexer": "ipython3",
   "version": "3.6.5"
  }
 },
 "nbformat": 4,
 "nbformat_minor": 2
}
