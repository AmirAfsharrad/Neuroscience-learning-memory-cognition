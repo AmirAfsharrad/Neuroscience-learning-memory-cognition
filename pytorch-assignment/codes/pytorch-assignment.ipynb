{
 "cells": [
  {
   "cell_type": "markdown",
   "metadata": {},
   "source": [
    "# EE 25614: Neuroscience of Learning, Memory, & Cognition\n",
    "## Fall 2018\n",
    "## PyTorch Tutorial Assignment\n",
    "### Deadline: November 2, 2018\n",
    "\n",
    "### Name: Amirhossein Afsharrad\n",
    "### Student ID: 95101077\n",
    "\n",
    "\n",
    "In this assignment, you are tasked with implementing and training a simple recurrent neural network model using PyTorch. You will use this network to solve two tasks."
   ]
  },
  {
   "cell_type": "markdown",
   "metadata": {},
   "source": [
    "\n",
    "\n",
    "These are the steps you should take to complete this assignment:\n",
    "1. Implement VanillaRNN class.\n",
    "2. Train the network with the datasets you have generated. Visualize how loss changes through epochs.\n",
    "4. Retrain the data using different sets of parameters. Report and visualize how changing each parameter changes loss. These parameters include:\n",
    "    - Learning rate\n",
    "    - Hidden layer size\n",
    "    - Batch size\n",
    "    - Number of Epochs\n",
    "5. Report the parameters of your best network. Run the network on test data and visualize some examples of denoised signals the network makes.\n",
    "6. Visualize activity of specific neurons through time as they process data in the parity task. Set hidden layer size to a small number for better visuals.\n",
    "\n",
    "After completing the assignment, upload this notebook in a zip file with your student ID as its name on the CW website.\n",
    "\n",
    "You should write all of the codes by yourself. Copying codes that are available on the internet or your classmates have written is prohibited.\n",
    "\n",
    "If you have any questions about this assignment, please ask them on Piazza."
   ]
  },
  {
   "cell_type": "markdown",
   "metadata": {},
   "source": [
    "# Part 0: Generating datasets for two tasks.\n",
    "You should write code that generates training and test datasets for each of the tasks below.\n"
   ]
  },
  {
   "cell_type": "markdown",
   "metadata": {},
   "source": [
    "## Task 1: Predicting parity bit of a bit vector\n",
    "We first define a function to create the parity-bit dataset"
   ]
  },
  {
   "cell_type": "code",
   "execution_count": 3,
   "metadata": {},
   "outputs": [
    {
     "name": "stdout",
     "output_type": "stream",
     "text": [
      "tensor([0., 1., 0., 0., 1., 1., 1., 0., 1., 0.])\n",
      "tensor([0., 1., 1., 1., 0., 1., 0., 0., 1., 1.], dtype=torch.float64)\n"
     ]
    }
   ],
   "source": [
    "import torch\n",
    "import torch.nn as nn\n",
    "from torch.autograd import Variable\n",
    "import numpy as np\n",
    "\n",
    "def parity_generator(N,L):\n",
    "    X = np.random.randint(0,2,(N,L))\n",
    "    Y = np.zeros((N,L))\n",
    "    for i in range (L):\n",
    "        Y[:,i] = np.sum(X[:,0:i+1],1)%2\n",
    "    X = torch.from_numpy(X).float()\n",
    "    Y = torch.from_numpy(Y).double()\n",
    "    return X, Y\n",
    "\n",
    "# testing the generator\n",
    "N = 1000\n",
    "L = 10\n",
    "X, Y = parity_generator(N,L)\n",
    "print(X[0,:])\n",
    "print(Y[0,:])\n"
   ]
  },
  {
   "cell_type": "markdown",
   "metadata": {},
   "source": [
    "## Task 2: Predicting a denoised sine wave from a noisy signal\n",
    "\n",
    "\"sine_generator\" function is defined to create noisy and denoised sine wave dataset with random amplitude and zero phase.\n"
   ]
  },
  {
   "cell_type": "code",
   "execution_count": 5,
   "metadata": {},
   "outputs": [
    {
     "data": {
      "image/png": "[encoded data removed]",
      "text/plain": [
       "<Figure size 432x288 with 1 Axes>"
      ]
     },
     "metadata": {
      "needs_background": "light"
     },
     "output_type": "display_data"
    }
   ],
   "source": [
    "import matplotlib.pylab as plt\n",
    "\n",
    "\n",
    "def sine_generator(N,L):\n",
    "    X = np.zeros((N,L))\n",
    "    Y = np.zeros((N,L))\n",
    "    x = np.linspace(-np.pi, np.pi, L)\n",
    "    amplitude = np.random.randn(N,1) * np.ones((N,L))\n",
    "    amplitude = np.ones((N,L))\n",
    "    amplitude = np.ones((N,L))*np.random.randint(1, 4, size=(N,1))\n",
    "    #Y = 10*np.sin(x)*amplitude\n",
    "    Y = np.sin(x)*amplitude\n",
    "    X = Y + np.random.uniform(-0.3, 0.3, size=Y.shape)\n",
    "\n",
    "\n",
    "    return X, Y\n",
    "\n",
    "\n",
    "# testing the generator\n",
    "x = np.linspace(-np.pi, np.pi, L)\n",
    "N = 1000\n",
    "L=100\n",
    "X, Y = sine_generator(N,L)\n",
    "\n",
    "plt.plot(x,np.array(X[120,:]), label = 'noisy')\n",
    "plt.plot(x,np.array(Y[120,:]), label = 'denoised')\n",
    "plt.legend()\n",
    "plt.show()\n"
   ]
  },
  {
   "cell_type": "markdown",
   "metadata": {},
   "source": [
    "# Part 1: Vanilla RNN\n",
    "\n",
    "Equations of a forward pass in a simple RNN network looks like this:\n",
    "\n",
    "$s_{t}=f(Ux_{t}+b_{U}+Ws_{t-1}+b_{W})$\n",
    "\n",
    "$o_{t}=f'(Vs_{t}+b_{V})$\n",
    "\n",
    "Where:\n",
    "\n",
    "$s_{t}$: Hidden state of RNN at time step t.\n",
    "\n",
    "$x_{t}$: Input at time step t.\n",
    "\n",
    "$U$: Learnable weight matrix for connections between the hidden state and input.\n",
    "\n",
    "$W$: Learnable weight matrix for connections between the hidden states.\n",
    "\n",
    "$V$: Learnable weight matrix for connections between the hidden state and output.\n",
    "\n",
    "$o_{t}$: Output at time step t.\n",
    "\n",
    "$f$ and $f'$: Nonlineartiy functions such as tanh, ReLU, & Softmax\n",
    "\n",
    "$b_{U}$, $b_{W}$, and $b_{V}$: Bias terms\n",
    "\n",
    "We talked what the bias term does in the class. In practice, bias terms are not held separately. Using the bias trick, we can store $W$ and bias term of a linear model $y=Wx+b$ in a single matrix. \n",
    "![The bias trick](../media/wb.jpg)\n",
    "Using the bias trick, the equations of RNN are reduce to the following:\n",
    "\n",
    "$s_{t}=f(Ux_{t}+Ws_{t-1})$\n",
    "\n",
    "$o_{t}=f'(Vs_{t})$\n",
    "\n",
    "PyTorch's $nn$ module has a function for a linear models such as $y=Wx+b$. Set $f$ and $f'$ to to *tanh*."
   ]
  },
  {
   "cell_type": "markdown",
   "metadata": {},
   "source": [
    "### Vanilla RNN implementation\n",
    "The following class, called RNN is created as an implementation of Vanilla RNN"
   ]
  },
  {
   "cell_type": "code",
   "execution_count": 6,
   "metadata": {},
   "outputs": [],
   "source": [
    "import torch\n",
    "import torch.nn as nn\n",
    "from torch.autograd import Variable\n",
    "\n",
    "class RNN(nn.Module):\n",
    "    def __init__(self, input_size, hidden_size, output_size):\n",
    "        super(RNN, self).__init__()\n",
    "        \n",
    "        self.input_size = input_size\n",
    "        self.hidden_size = hidden_size\n",
    "        self.output_size = output_size\n",
    "        \n",
    "        self.input2hidden = nn.Linear(input_size, hidden_size)\n",
    "        self.hidden2hidden = nn.Linear(hidden_size, hidden_size)\n",
    "        self.hidden2output = nn.Linear(hidden_size, output_size)\n",
    "        self.NonlinearFunc = nn.Tanh()\n",
    "    \n",
    "    def forward(self, input, hidden):\n",
    "        hidden = self.input2hidden(input) + self.hidden2hidden(hidden)\n",
    "        output = self.NonlinearFunc(self.hidden2output(hidden))\n",
    "        return output, hidden\n",
    "\n",
    "    def init_hidden(self):\n",
    "        return Variable(torch.zeros(1, self.hidden_size))\n",
    "    \n",
    "    \n",
    "#params = list(rnn.parameters())\n",
    "#print(len(params))\n",
    "#print(params[0].size())\n"
   ]
  },
  {
   "cell_type": "markdown",
   "metadata": {},
   "source": [
    "### another implementation\n",
    "The following code is a similar implementation (which won't be used in the tasks) with a little help from https://nipunbatra.github.io/blog/2018/denoising.html"
   ]
  },
  {
   "cell_type": "code",
   "execution_count": 44,
   "metadata": {},
   "outputs": [],
   "source": [
    "input_dim = 1\n",
    "hidden_size = 30\n",
    "num_layers = 1\n",
    "\n",
    "class RNN2(nn.Module):\n",
    "    def __init__(self, input_size, hidden_size, output_size):\n",
    "        super(RNN2, self).__init__()\n",
    "        \n",
    "        self.rnn = nn.RNN(input_size=input_size, hidden_size=hidden_size, batch_first=True)\n",
    "        \n",
    "        self.hidden2output = nn.Linear(hidden_size, output_size, )\n",
    "        \n",
    "        self.NonlinearFunc = nn.Tanh()\n",
    "        \n",
    "        \n",
    "    def forward(self, x):\n",
    "        output, hidden = self.rnn(x, None)\n",
    "        \n",
    "        output = self.NonlinearFunc(self.hidden2output(output)).view(output.data.shape[0], -1, 1)\n",
    "        \n",
    "        return output\n",
    "\n",
    "r= RNN2(input_dim, hidden_size, 1)"
   ]
  },
  {
   "cell_type": "markdown",
   "metadata": {},
   "source": [
    "### parity-bit RNN\n",
    "the follownig function is defined to train an RNN and show the results for parity bit detection with the following parameters to be adjusted:\n",
    "1. learning rate\n",
    "2. hidden layer size\n",
    "3. batch size\n",
    "4. number of epochs\n",
    "5. sequence length (optional)\n",
    "6. and dataset size (optional)"
   ]
  },
  {
   "cell_type": "code",
   "execution_count": 7,
   "metadata": {},
   "outputs": [],
   "source": [
    "def predictor(output):\n",
    "    return (output>0.5).double()    \n",
    "\n",
    "def parity (learning_rate, hidden_size, batch_size, number_of_epochs, sequence_length=10, dataset_size = 100):\n",
    "\n",
    "    rnn = RNN(input_size=1, hidden_size=hidden_size, output_size=1)\n",
    "    \n",
    "    L = sequence_length\n",
    "    \n",
    "    N = dataset_size\n",
    "    \n",
    "    num_of_batches = int(N/batch_size)\n",
    "    \n",
    "    input, target = parity_generator(N,L)\n",
    "    \n",
    "    epochs_samples = np.zeros(int(number_of_epochs/20))\n",
    "    \n",
    "    epoch_loss = np.zeros(int(number_of_epochs/20))\n",
    "\n",
    "\n",
    "    for epochs in range(number_of_epochs):\n",
    "        criterion = nn.MSELoss()\n",
    "\n",
    "        learning_rate = 0.005\n",
    "\n",
    "        optimizer = torch.optim.SGD(rnn.parameters(), lr=learning_rate)\n",
    "      #  optimizer = torch.optim.Adam(rnn.parameters(), lr=learning_rate)\n",
    "\n",
    "        OUT = torch.tensor(np.zeros((batch_size, L)))\n",
    "\n",
    "        rnn.zero_grad()\n",
    "\n",
    "        for k in range (num_of_batches):\n",
    "            for i in range (batch_size):\n",
    "                hidden = rnn.init_hidden()\n",
    "                for j in range (L):\n",
    "                    output, hidden = rnn(input[k*batch_size+i,j].unsqueeze(0), hidden)\n",
    "                    OUT[i,j] = output\n",
    "                    #loss += criterion(output.double(), target[k*batch_size+i,j].unsqueeze(0).unsqueeze(0))\n",
    "        loss = criterion(OUT.double(), target[k*batch_size:(k+1)*batch_size,:])\n",
    "        loss.backward()\n",
    "        optimizer.step()\n",
    "        \n",
    "        \n",
    "        if (epochs%20==0):\n",
    "            print('epoch=',epochs, ', loss=', loss.item())\n",
    "            number = int(epochs/20)\n",
    "            epochs_samples[number] = epochs\n",
    "            epoch_loss[number] = loss.item()\n",
    "\n",
    "    predictedOUT = predictor(OUT)\n",
    "    print(predictedOUT.numpy().squeeze())\n",
    "    plt.figure\n",
    "    plt.subplot(2,1,1)\n",
    "    plt.plot(OUT.detach().numpy()[-1,:],label='out')\n",
    "    plt.plot(predictedOUT.numpy().squeeze(),label='pout')\n",
    "    plt.plot(input.detach().numpy()[-1,:],label='in')\n",
    "    plt.plot(target.detach().numpy()[-1,:],label='target')\n",
    "    plt.legend()\n",
    "    plt.subplot(2,1,2)\n",
    "    plt.plot(epochs_samples, epoch_loss)\n",
    "    plt.xlabel('epochs')\n",
    "    plt.ylabel('loss')\n",
    "    plt.show()\n",
    "    \n",
    "    hidden = rnn.init_hidden()\n",
    "    O = torch.tensor(np.zeros(L))\n",
    "    Hidden = torch.tensor(np.zeros((L,hidden_size,10)))\n",
    "    for test in range (10):\n",
    "        hidden = rnn.init_hidden()\n",
    "        for i in range (L):\n",
    "            rnn.zero_grad()\n",
    "            output, hidden = rnn(input[N-10+test,i].unsqueeze(0), hidden)\n",
    "            Hidden[i,:,test] = hidden\n",
    "            O[i] = output\n",
    "\n",
    "    plt.figure\n",
    "    plt.imshow(np.array(input[N-10:N,:]).T)\n",
    "    plt.title('input')\n",
    "    plt.show()\n",
    "\n",
    "    for unit in range(hidden_size):\n",
    "        Hid = np.array(Hidden[:,unit,:].detach().numpy())\n",
    "        plt.figure\n",
    "        plt.imshow(Hid.T)\n",
    "        plt.title('neural activity')\n",
    "        plt.show()\n",
    "\n",
    "    OUTPUT = predictor(O)\n",
    "    E = abs(OUTPUT-target[N-1,:])\n",
    "    print('percentage=',(100-100*torch.sum(E)/(L)).item())\n",
    "\n",
    "        \n",
    "    return\n"
   ]
  },
  {
   "cell_type": "markdown",
   "metadata": {},
   "source": [
    "Now we shall test the network with different parameters\n",
    "### Learning Rate"
   ]
  },
  {
   "cell_type": "code",
   "execution_count": null,
   "metadata": {},
   "outputs": [
    {
     "name": "stdout",
     "output_type": "stream",
     "text": [
      "epoch= 0 , loss= 0.3061099614464008\n",
      "epoch= 20 , loss= 0.2971665185466616\n",
      "epoch= 40 , loss= 0.2902876473592348\n",
      "epoch= 60 , loss= 0.28474757718097105\n",
      "epoch= 80 , loss= 0.2802032661685999\n",
      "epoch= 100 , loss= 0.27642904067469376\n",
      "epoch= 120 , loss= 0.2732614656156914\n",
      "epoch= 140 , loss= 0.2705781829539663\n",
      "epoch= 160 , loss= 0.268285982484014\n",
      "epoch= 180 , loss= 0.26631287846754426\n",
      "epoch= 200 , loss= 0.26460256325218734\n",
      "epoch= 220 , loss= 0.2631105792544104\n",
      "epoch= 240 , loss= 0.26180144986103854\n",
      "epoch= 260 , loss= 0.26064659240550897\n",
      "epoch= 280 , loss= 0.259622744716346\n",
      "epoch= 300 , loss= 0.25871093484863283\n",
      "epoch= 320 , loss= 0.25789543048993685\n",
      "epoch= 340 , loss= 0.2571632028577159\n",
      "epoch= 360 , loss= 0.2565033270045534\n",
      "epoch= 380 , loss= 0.25590663103602235\n",
      "epoch= 400 , loss= 0.255365316435627\n",
      "epoch= 420 , loss= 0.2548727813368417\n",
      "epoch= 440 , loss= 0.2544233652922375\n",
      "epoch= 460 , loss= 0.25401218741951737\n",
      "epoch= 480 , loss= 0.25363505886150695\n",
      "epoch= 500 , loss= 0.253288332590747\n",
      "epoch= 520 , loss= 0.25296882728269343\n",
      "epoch= 540 , loss= 0.25267378082079534\n",
      "epoch= 560 , loss= 0.25240077048344456\n",
      "epoch= 580 , loss= 0.2521476364307034\n",
      "epoch= 600 , loss= 0.2519125079491282\n",
      "epoch= 620 , loss= 0.2516937092352192\n",
      "epoch= 640 , loss= 0.2514897565173262\n",
      "epoch= 660 , loss= 0.2512993238120071\n",
      "epoch= 680 , loss= 0.25112122654196656\n",
      "epoch= 700 , loss= 0.25095441638719884\n",
      "epoch= 720 , loss= 0.250797946307001\n",
      "epoch= 740 , loss= 0.25065096385413016\n",
      "epoch= 760 , loss= 0.2505126945867687\n",
      "epoch= 780 , loss= 0.25038245815487187\n",
      "epoch= 800 , loss= 0.2502596034226566\n",
      "epoch= 820 , loss= 0.2501435950464941\n",
      "epoch= 840 , loss= 0.25003388247968267\n",
      "epoch= 860 , loss= 0.24993002585007262\n"
     ]
    }
   ],
   "source": [
    "parity (learning_rate=0.001, hidden_size=4, batch_size=50, number_of_epochs=1000, sequence_length=10, dataset_size = 100)"
   ]
  },
  {
   "cell_type": "code",
   "execution_count": null,
   "metadata": {},
   "outputs": [],
   "source": [
    "parity (learning_rate=0.005, hidden_size=4, batch_size=50, number_of_epochs=1000, sequence_length=10, dataset_size = 100)"
   ]
  },
  {
   "cell_type": "code",
   "execution_count": null,
   "metadata": {},
   "outputs": [],
   "source": [
    "parity (learning_rate=0.02, hidden_size=4, batch_size=50, number_of_epochs=1000, sequence_length=10, dataset_size = 100)"
   ]
  },
  {
   "cell_type": "code",
   "execution_count": null,
   "metadata": {},
   "outputs": [],
   "source": [
    "parity (learning_rate=0.1, hidden_size=4, batch_size=50, number_of_epochs=1000, sequence_length=10, dataset_size = 100)"
   ]
  },
  {
   "cell_type": "code",
   "execution_count": null,
   "metadata": {},
   "outputs": [],
   "source": [
    "parity (learning_rate=0.001, hidden_size=4, batch_size=50, number_of_epochs=1000, sequence_length=10, dataset_size = 100)"
   ]
  },
  {
   "cell_type": "code",
   "execution_count": null,
   "metadata": {},
   "outputs": [],
   "source": [
    "parity (learning_rate=0.001, hidden_size=4, batch_size=50, number_of_epochs=1000, sequence_length=10, dataset_size = 100)"
   ]
  },
  {
   "cell_type": "code",
   "execution_count": null,
   "metadata": {},
   "outputs": [],
   "source": [
    "parity (learning_rate=0.001, hidden_size=4, batch_size=50, number_of_epochs=1000, sequence_length=10, dataset_size = 100)"
   ]
  },
  {
   "cell_type": "code",
   "execution_count": null,
   "metadata": {},
   "outputs": [],
   "source": [
    "parity (learning_rate=0.001, hidden_size=4, batch_size=50, number_of_epochs=1000, sequence_length=10, dataset_size = 100)"
   ]
  },
  {
   "cell_type": "code",
   "execution_count": null,
   "metadata": {},
   "outputs": [],
   "source": [
    "parity (learning_rate=0.001, hidden_size=4, batch_size=50, number_of_epochs=1000, sequence_length=10, dataset_size = 100)"
   ]
  },
  {
   "cell_type": "code",
   "execution_count": null,
   "metadata": {},
   "outputs": [],
   "source": [
    "parity (learning_rate=0.001, hidden_size=4, batch_size=50, number_of_epochs=1000, sequence_length=10, dataset_size = 100)"
   ]
  },
  {
   "cell_type": "code",
   "execution_count": null,
   "metadata": {},
   "outputs": [],
   "source": [
    "parity (learning_rate=0.001, hidden_size=4, batch_size=50, number_of_epochs=1000, sequence_length=10, dataset_size = 100)"
   ]
  },
  {
   "cell_type": "code",
   "execution_count": null,
   "metadata": {},
   "outputs": [],
   "source": [
    "parity (learning_rate=0.001, hidden_size=4, batch_size=50, number_of_epochs=1000, sequence_length=10, dataset_size = 100)"
   ]
  },
  {
   "cell_type": "code",
   "execution_count": null,
   "metadata": {},
   "outputs": [],
   "source": [
    "parity (learning_rate=0.001, hidden_size=4, batch_size=50, number_of_epochs=1000, sequence_length=10, dataset_size = 100)"
   ]
  },
  {
   "cell_type": "code",
   "execution_count": null,
   "metadata": {},
   "outputs": [],
   "source": [
    "parity (learning_rate=0.001, hidden_size=4, batch_size=50, number_of_epochs=1000, sequence_length=10, dataset_size = 100)"
   ]
  },
  {
   "cell_type": "code",
   "execution_count": null,
   "metadata": {},
   "outputs": [],
   "source": [
    "parity (learning_rate=0.001, hidden_size=4, batch_size=50, number_of_epochs=1000, sequence_length=10, dataset_size = 100)"
   ]
  },
  {
   "cell_type": "code",
   "execution_count": null,
   "metadata": {},
   "outputs": [],
   "source": [
    "parity (learning_rate=0.001, hidden_size=4, batch_size=50, number_of_epochs=1000, sequence_length=10, dataset_size = 100)"
   ]
  },
  {
   "cell_type": "code",
   "execution_count": 48,
   "metadata": {},
   "outputs": [
    {
     "ename": "NameError",
     "evalue": "name 'rnn' is not defined",
     "output_type": "error",
     "traceback": [
      "\u001b[0;31m---------------------------------------------------------------------------\u001b[0m",
      "\u001b[0;31mNameError\u001b[0m                                 Traceback (most recent call last)",
      "\u001b[0;32m<ipython-input-48-1ea532f0d7ed>\u001b[0m in \u001b[0;36m<module>\u001b[0;34m\u001b[0m\n\u001b[1;32m      4\u001b[0m \u001b[0minput\u001b[0m\u001b[0;34m,\u001b[0m \u001b[0mtarget\u001b[0m \u001b[0;34m=\u001b[0m \u001b[0mparity_generator\u001b[0m\u001b[0;34m(\u001b[0m\u001b[0mnumber_of_tests\u001b[0m\u001b[0;34m,\u001b[0m\u001b[0mL\u001b[0m\u001b[0;34m)\u001b[0m\u001b[0;34m\u001b[0m\u001b[0m\n\u001b[1;32m      5\u001b[0m \u001b[0;34m\u001b[0m\u001b[0m\n\u001b[0;32m----> 6\u001b[0;31m \u001b[0mhidden\u001b[0m \u001b[0;34m=\u001b[0m \u001b[0mrnn\u001b[0m\u001b[0;34m.\u001b[0m\u001b[0minit_hidden\u001b[0m\u001b[0;34m(\u001b[0m\u001b[0;34m)\u001b[0m\u001b[0;34m\u001b[0m\u001b[0m\n\u001b[0m\u001b[1;32m      7\u001b[0m \u001b[0mO\u001b[0m \u001b[0;34m=\u001b[0m \u001b[0mtorch\u001b[0m\u001b[0;34m.\u001b[0m\u001b[0mtensor\u001b[0m\u001b[0;34m(\u001b[0m\u001b[0mnp\u001b[0m\u001b[0;34m.\u001b[0m\u001b[0mzeros\u001b[0m\u001b[0;34m(\u001b[0m\u001b[0mL\u001b[0m\u001b[0;34m)\u001b[0m\u001b[0;34m)\u001b[0m\u001b[0;34m\u001b[0m\u001b[0m\n\u001b[1;32m      8\u001b[0m \u001b[0mHidden\u001b[0m \u001b[0;34m=\u001b[0m \u001b[0mtorch\u001b[0m\u001b[0;34m.\u001b[0m\u001b[0mtensor\u001b[0m\u001b[0;34m(\u001b[0m\u001b[0mnp\u001b[0m\u001b[0;34m.\u001b[0m\u001b[0mzeros\u001b[0m\u001b[0;34m(\u001b[0m\u001b[0;34m(\u001b[0m\u001b[0mL\u001b[0m\u001b[0;34m,\u001b[0m\u001b[0mhidden_size\u001b[0m\u001b[0;34m,\u001b[0m\u001b[0mnumber_of_tests\u001b[0m\u001b[0;34m)\u001b[0m\u001b[0;34m)\u001b[0m\u001b[0;34m)\u001b[0m\u001b[0;34m\u001b[0m\u001b[0m\n",
      "\u001b[0;31mNameError\u001b[0m: name 'rnn' is not defined"
     ]
    }
   ],
   "source": [
    "import matplotlib.pylab as plt\n",
    "number_of_epochs = 1000\n",
    "number_of_tests = 20\n",
    "input, target = parity_generator(number_of_tests,L)\n",
    "\n",
    "hidden = rnn.init_hidden()\n",
    "O = torch.tensor(np.zeros(L))\n",
    "Hidden = torch.tensor(np.zeros((L,hidden_size,number_of_tests)))\n",
    "for test in range (number_of_tests):\n",
    "    for i in range (L):\n",
    "        rnn.zero_grad()\n",
    "        output, hidden = rnn(input[test,i].unsqueeze(0), hidden)\n",
    "        Hidden[i,:,test] = hidden\n",
    "        O[i] = output\n",
    "for unit in range(hidden_size):\n",
    "    Hid = np.array(Hidden[:,unit,:].detach().numpy())\n",
    "    plt.figure\n",
    "    plt.imshow(Hid.T)\n",
    "    plt.show()\n",
    "#print(loss)\n",
    "OUTPUT = predictor(O)\n",
    "E = abs(OUTPUT-target)\n",
    "print(E)\n",
    "#print(OUTPUT)\n",
    "print(1-torch.sum(E)/(L*number_of_tests))\n",
    "#print((((predictor(O)).float()-(target==1).float)))\n",
    "#print(.sum().float()/L)\n",
    "\n",
    "        #return output, loss.data[0]"
   ]
  },
  {
   "cell_type": "code",
   "execution_count": 35,
   "metadata": {},
   "outputs": [],
   "source": [
    "def denoising (learning_rate, hidden_size, batch_size, number_of_epochs, number_of_time_samples=30, dataset_size = 100):\n",
    "\n",
    "    rnn = RNN(input_size=1, hidden_size=hidden_size, output_size=1)\n",
    "\n",
    "    L = number_of_time_samples\n",
    "    N = dataset_size\n",
    "\n",
    "    num_of_batches = int(N/batch_size)\n",
    "\n",
    "    input, target = sine_generator(N,L)\n",
    "    input = torch.tensor(input)\n",
    "    target = torch.tensor(target)\n",
    "    \n",
    "    epochs_samples = np.zeros(int(number_of_epochs/20))\n",
    "    \n",
    "    epoch_loss = np.zeros(int(number_of_epochs/20))\n",
    "\n",
    "    for epochs in range(number_of_epochs):\n",
    "        criterion = nn.MSELoss()\n",
    "\n",
    "        optimizer = torch.optim.SGD(rnn.parameters(), lr=learning_rate)\n",
    "      #  optimizer = torch.optim.Adam(rnn.parameters(), lr=learning_rate)\n",
    "\n",
    "        OUT = torch.tensor(np.zeros((batch_size, L)))\n",
    "\n",
    "        rnn.zero_grad()\n",
    "\n",
    "        for k in range (num_of_batches):\n",
    "            for i in range (batch_size):\n",
    "                hidden = rnn.init_hidden()\n",
    "                for j in range (L):\n",
    "                    output, hidden = rnn(input[k*batch_size+i,j].float().unsqueeze(0), hidden.float())\n",
    "                    OUT[i,j] = output\n",
    "                    #loss += criterion(output.double(), target[k*batch_size+i,j].unsqueeze(0).unsqueeze(0))\n",
    "        loss = criterion(OUT.double(), target[k*batch_size:(k+1)*batch_size,:])\n",
    "        loss.backward()\n",
    "        optimizer.step()\n",
    "\n",
    "        if (epochs%20==0):\n",
    "            print('epoch=',epochs, ', loss=', loss.item())\n",
    "            number = int(epochs/20)\n",
    "            epochs_samples[number] = epochs\n",
    "            epoch_loss[number] = loss.item()\n",
    "\n",
    "\n",
    "    plt.figure\n",
    "    plt.subplot(2,1,1)\n",
    "    plt.plot(OUT.detach().numpy()[-1,:],label='out')\n",
    "    plt.plot(input.detach().numpy()[-1,:],label='in')\n",
    "    plt.plot(target.detach().numpy()[-1,:],label='target')\n",
    "    plt.legend()\n",
    "    plt.subplot(2,1,2)\n",
    "    plt.plot(epochs_samples, epoch_loss)\n",
    "    plt.xlabel('epochs')\n",
    "    plt.ylabel('loss')\n",
    "    plt.show()\n",
    "    \n",
    "    return\n",
    "\n"
   ]
  },
  {
   "cell_type": "code",
   "execution_count": 36,
   "metadata": {},
   "outputs": [
    {
     "name": "stdout",
     "output_type": "stream",
     "text": [
      "epoch= 0 , loss= 1.9832684900594868\n",
      "epoch= 20 , loss= 0.6223844295924875\n",
      "epoch= 40 , loss= 0.6004614260539546\n",
      "epoch= 60 , loss= 0.5917778004304555\n",
      "epoch= 80 , loss= 0.5874155108705548\n"
     ]
    },
    {
     "data": {
      "image/png": "[encoded data removed]",
      "text/plain": [
       "<Figure size 432x288 with 2 Axes>"
      ]
     },
     "metadata": {
      "needs_background": "light"
     },
     "output_type": "display_data"
    }
   ],
   "source": [
    "denoising(learning_rate = 0.05, hidden_size = 4, batch_size = 50, number_of_epochs = 100)"
   ]
  },
  {
   "cell_type": "code",
   "execution_count": 84,
   "metadata": {},
   "outputs": [],
   "source": [
    "input_dim = 1\n",
    "hidden_size = 30\n",
    "num_layers = 1\n",
    "\n",
    "class CustomRNN(nn.Module):\n",
    "    def __init__(self, input_size, hidden_size, output_size):\n",
    "        super(CustomRNN, self).__init__()\n",
    "        self.rnn = nn.RNN(input_size=input_size, hidden_size=hidden_size, batch_first=True)\n",
    "        self.linear = nn.Linear(hidden_size, output_size, )\n",
    "        self.act = nn.Tanh()\n",
    "    def forward(self, x):\n",
    "        pred, hidden = self.rnn(x, None)\n",
    "        pred = self.act(self.linear(pred)).view(pred.data.shape[0], -1, 1)\n",
    "        return pred\n",
    "\n",
    "r= CustomRNN(input_dim, hidden_size, 1)"
   ]
  },
  {
   "cell_type": "code",
   "execution_count": 88,
   "metadata": {},
   "outputs": [],
   "source": [
    "input_dim = 1\n",
    "hidden_size = 30\n",
    "num_layers = 1\n",
    "\n",
    "class RNN2(nn.Module):\n",
    "    def __init__(self, input_size, hidden_size, output_size):\n",
    "        super(RNN2, self).__init__()\n",
    "        self.rnn = nn.RNN(input_size=input_size, hidden_size=hidden_size, batch_first=True)\n",
    "        self.hidden2output = nn.Linear(hidden_size, output_size, )\n",
    "        self.NonlinearFunc = nn.Tanh()\n",
    "    def forward(self, x):\n",
    "        output, hidden = self.rnn(x, None)\n",
    "        output = self.NonlinearFunc(self.hidden2output(output)).view(output.data.shape[0], -1, 1)\n",
    "        return output\n",
    "\n",
    "r= RNN2(input_dim, hidden_size, 1)"
   ]
  },
  {
   "cell_type": "code",
   "execution_count": 152,
   "metadata": {},
   "outputs": [
    {
     "data": {
      "image/png": "[encoded data removed]",
      "text/plain": [
       "<Figure size 432x288 with 1 Axes>"
      ]
     },
     "metadata": {
      "needs_background": "light"
     },
     "output_type": "display_data"
    }
   ],
   "source": [
    "# Generating a clean sine wave \n",
    "def sine(X, signal_freq=60.):\n",
    "    return np.sin(2 * np.pi * (X) / signal_freq)\n",
    "\n",
    "# Adding uniform noise\n",
    "def noisy(Y, noise_range=(-0.35, 0.35)):\n",
    "    noise = np.random.uniform(noise_range[0], noise_range[1], size=Y.shape)\n",
    "    return Y + noise\n",
    "\n",
    "# Create a noisy and clean sine wave \n",
    "def sample(sample_size):\n",
    "    random_offset = np.random.randint(0, sample_size)\n",
    "    X = np.arange(sample_size)\n",
    "    out = sine(X + random_offset)\n",
    "    inp = noisy(out)\n",
    "    return inp, out\n",
    "\n",
    "\n"
   ]
  },
  {
   "cell_type": "code",
   "execution_count": 81,
   "metadata": {},
   "outputs": [],
   "source": [
    "def create_dataset(n_samples=10000, sample_size=100):\n",
    "    data_inp = np.zeros((n_samples, sample_size))\n",
    "    data_out = np.zeros((n_samples, sample_size))\n",
    "    \n",
    "    for i in range(n_samples):\n",
    "        sample_inp, sample_out = sample(sample_size)\n",
    "        data_inp[i, :] = sample_inp\n",
    "        data_out[i, :] = sample_out\n",
    "    return data_inp, data_out"
   ]
  },
  {
   "cell_type": "code",
   "execution_count": 82,
   "metadata": {},
   "outputs": [],
   "source": [
    "data_inp, data_out = create_dataset()\n",
    "train_inp, train_out = data_inp[:8000], data_out[:8000]\n",
    "test_inp, test_out = data_inp[8000:], data_out[8000:]"
   ]
  },
  {
   "cell_type": "code",
   "execution_count": 153,
   "metadata": {},
   "outputs": [
    {
     "name": "stderr",
     "output_type": "stream",
     "text": [
      "/home/amirhossein/.local/lib/python3.6/site-packages/ipykernel_launcher.py:16: UserWarning: invalid index of a 0-dim tensor. This will be an error in PyTorch 0.5. Use tensor.item() to convert a 0-dim tensor to a Python number\n",
      "  app.launch_new_instance()\n"
     ]
    },
    {
     "name": "stdout",
     "output_type": "stream",
     "text": [
      "0 tensor(0.5313)\n",
      "20 tensor(0.5311)\n",
      "40 tensor(0.5235)\n",
      "60 tensor(0.5183)\n",
      "80 tensor(0.5154)\n",
      "100 tensor(0.5139)\n",
      "120 tensor(0.5136)\n",
      "140 tensor(0.5129)\n",
      "160 tensor(0.5116)\n",
      "180 tensor(0.5130)\n",
      "200 tensor(0.5086)\n",
      "220 tensor(0.5361)\n",
      "240 tensor(0.5166)\n",
      "260 tensor(0.5131)\n",
      "280 tensor(0.5132)\n",
      "300 tensor(0.5099)\n"
     ]
    }
   ],
   "source": [
    "# Storing predictions per iterations to visualise later\n",
    "predictions = []\n",
    "\n",
    "optimizer = torch.optim.Adam(r.parameters(), lr=1e-2)\n",
    "loss_func = nn.L1Loss()\n",
    "train_inp, train_out = sine_generator(10000,100)\n",
    "for t in range(301):\n",
    "    hidden = None\n",
    "    inp = Variable(torch.Tensor(train_inp.reshape((train_inp.shape[0], -1, 1))), requires_grad=True)\n",
    "    out = Variable(torch.Tensor(train_out.reshape((train_out.shape[0], -1, 1))) )\n",
    "    pred = r(inp)\n",
    "    optimizer.zero_grad()\n",
    "    predictions.append(pred.data.numpy())\n",
    "    loss = loss_func(pred, out)\n",
    "    if t%20==0:\n",
    "        print(t, loss.data[0])\n",
    "    loss.backward()\n",
    "    optimizer.step()"
   ]
  },
  {
   "cell_type": "code",
   "execution_count": 156,
   "metadata": {},
   "outputs": [
    {
     "name": "stdout",
     "output_type": "stream",
     "text": [
      "tensor(0.1062)\n"
     ]
    },
    {
     "name": "stderr",
     "output_type": "stream",
     "text": [
      "/home/amirhossein/.local/lib/python3.6/site-packages/ipykernel_launcher.py:4: UserWarning: invalid index of a 0-dim tensor. This will be an error in PyTorch 0.5. Use tensor.item() to convert a 0-dim tensor to a Python number\n",
      "  after removing the cwd from sys.path.\n"
     ]
    },
    {
     "data": {
      "text/plain": [
       "Text(0.5, 1.0, 'Sample num: 23')"
      ]
     },
     "execution_count": 156,
     "metadata": {},
     "output_type": "execute_result"
    },
    {
     "data": {
      "image/png": "[encoded data removed]",
      "text/plain": [
       "<Figure size 432x288 with 1 Axes>"
      ]
     },
     "metadata": {
      "needs_background": "light"
     },
     "output_type": "display_data"
    }
   ],
   "source": [
    "t_inp = Variable(torch.Tensor(test_inp.reshape((test_inp.shape[0], -1, 1))), requires_grad=True)\n",
    "pred_t = r(t_inp)\n",
    "# Test loss\n",
    "print(loss_func(pred_t, Variable(torch.Tensor(test_out.reshape((test_inp.shape[0], -1, 1))))).data[0])\n",
    "sample_num = 23\n",
    "plt.plot(pred_t[sample_num].data.numpy(), label='Pred')\n",
    "plt.plot(test_out[sample_num], label='GT')\n",
    "plt.legend()\n",
    "plt.title(\"Sample num: {}\".format(sample_num))"
   ]
  }
 ],
 "metadata": {
  "kernelspec": {
   "display_name": "Python 3",
   "language": "python",
   "name": "python3"
  },
  "language_info": {
   "codemirror_mode": {
    "name": "ipython",
    "version": 3
   },
   "file_extension": ".py",
   "mimetype": "text/x-python",
   "name": "python",
   "nbconvert_exporter": "python",
   "pygments_lexer": "ipython3",
   "version": "3.6.5"
  }
 },
 "nbformat": 4,
 "nbformat_minor": 2
}
