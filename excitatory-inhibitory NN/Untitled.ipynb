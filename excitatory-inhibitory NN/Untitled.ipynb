{
 "cells": [
  {
   "cell_type": "code",
   "execution_count": 1,
   "metadata": {},
   "outputs": [],
   "source": [
    "import numpy as np\n",
    "import math, random\n",
    "import matplotlib.pyplot as plt\n",
    "\n",
    "%matplotlib inline\n",
    "np.random.seed(0)\n"
   ]
  },
  {
   "cell_type": "code",
   "execution_count": 2,
   "metadata": {},
   "outputs": [],
   "source": [
    "# Generating a clean sine wave \n",
    "def sine(X, signal_freq=60.):\n",
    "    return 2*np.sin(2 * np.pi * (X) / signal_freq)\n",
    "\n",
    "# Adding uniform noise\n",
    "def noisy(Y, noise_range=(-0.35, 0.35)):\n",
    "    noise = np.random.uniform(noise_range[0], noise_range[1], size=Y.shape)\n",
    "    return Y + noise\n",
    "\n",
    "# Create a noisy and clean sine wave \n",
    "def sample(sample_size):\n",
    "    random_offset = random.randint(0, sample_size)\n",
    "    X = np.arange(sample_size)\n",
    "    out = sine(X + random_offset)\n",
    "    inp = noisy(out)\n",
    "    return inp, out"
   ]
  },
  {
   "cell_type": "code",
   "execution_count": 18,
   "metadata": {},
   "outputs": [
    {
     "data": {
      "text/plain": [
       "<matplotlib.legend.Legend at 0x7f000b236668>"
      ]
     },
     "execution_count": 18,
     "metadata": {},
     "output_type": "execute_result"
    },
    {
     "data": {
      "image/png": "[encoded data removed]",
      "text/plain": [
       "<Figure size 432x288 with 1 Axes>"
      ]
     },
     "metadata": {
      "needs_background": "light"
     },
     "output_type": "display_data"
    }
   ],
   "source": [
    "inp, out = sample(100)\n",
    "plt.plot(inp, label='Noisy')\n",
    "plt.plot(out, label ='Denoised')\n",
    "plt.legend()"
   ]
  },
  {
   "cell_type": "code",
   "execution_count": 19,
   "metadata": {},
   "outputs": [
    {
     "ename": "NameError",
     "evalue": "name 'matplotlib' is not defined",
     "output_type": "error",
     "traceback": [
      "\u001b[0;31m---------------------------------------------------------------------------\u001b[0m",
      "\u001b[0;31mNameError\u001b[0m                                 Traceback (most recent call last)",
      "\u001b[0;32m<ipython-input-19-a3a72e242cd9>\u001b[0m in \u001b[0;36m<module>\u001b[0;34m\u001b[0m\n\u001b[0;32m----> 1\u001b[0;31m \u001b[0mmatplotlib\u001b[0m\u001b[0;34m.\u001b[0m\u001b[0mlegend\u001b[0m\u001b[0;34m.\u001b[0m\u001b[0mLegend\u001b[0m \u001b[0;34m@\u001b[0m \u001b[0;36m0x106beb828\u001b[0m\u001b[0;34m\u001b[0m\u001b[0m\n\u001b[0m",
      "\u001b[0;31mNameError\u001b[0m: name 'matplotlib' is not defined"
     ]
    }
   ],
   "source": [
    "matplotlib.legend.Legend @ 0x106beb828\n"
   ]
  },
  {
   "cell_type": "code",
   "execution_count": 20,
   "metadata": {},
   "outputs": [],
   "source": [
    "def create_dataset(n_samples=10000, sample_size=100):\n",
    "    data_inp = np.zeros((n_samples, sample_size))\n",
    "    data_out = np.zeros((n_samples, sample_size))\n",
    "    \n",
    "    for i in range(n_samples):\n",
    "        sample_inp, sample_out = sample(sample_size)\n",
    "        data_inp[i, :] = sample_inp\n",
    "        data_out[i, :] = sample_out\n",
    "    return data_inp, data_out"
   ]
  },
  {
   "cell_type": "code",
   "execution_count": 21,
   "metadata": {},
   "outputs": [],
   "source": [
    "data_inp, data_out = create_dataset()\n",
    "train_inp, train_out = data_inp[:8000], data_out[:8000]\n",
    "test_inp, test_out = data_inp[8000:], data_out[8000:]"
   ]
  },
  {
   "cell_type": "code",
   "execution_count": 22,
   "metadata": {},
   "outputs": [],
   "source": [
    "import torch\n",
    "import torch.nn as nn\n",
    "from torch.autograd import Variable"
   ]
  },
  {
   "cell_type": "code",
   "execution_count": 23,
   "metadata": {},
   "outputs": [],
   "source": [
    "input_dim = 1\n",
    "hidden_size = 30\n",
    "num_layers = 1\n",
    "\n",
    "class CustomRNN(nn.Module):\n",
    "    def __init__(self, input_size, hidden_size, output_size):\n",
    "        super(CustomRNN, self).__init__()\n",
    "        self.rnn = nn.RNN(input_size=input_size, hidden_size=hidden_size, batch_first=True)\n",
    "        self.linear = nn.Linear(hidden_size, output_size, )\n",
    "        self.act = nn.Tanh()\n",
    "    def forward(self, x):\n",
    "        pred, hidden = self.rnn(x, None)\n",
    "        pred = self.act(self.linear(pred)).view(pred.data.shape[0], -1, 1)\n",
    "        return pred\n",
    "\n",
    "r= CustomRNN(input_dim, hidden_size, 1)"
   ]
  },
  {
   "cell_type": "code",
   "execution_count": 24,
   "metadata": {},
   "outputs": [
    {
     "name": "stderr",
     "output_type": "stream",
     "text": [
      "/home/amirhossein/.local/lib/python3.6/site-packages/ipykernel_launcher.py:16: UserWarning: invalid index of a 0-dim tensor. This will be an error in PyTorch 0.5. Use tensor.item() to convert a 0-dim tensor to a Python number\n",
      "  app.launch_new_instance()\n"
     ]
    },
    {
     "name": "stdout",
     "output_type": "stream",
     "text": [
      "0 tensor(1.3320)\n",
      "20 tensor(0.5249)\n",
      "40 tensor(0.5042)\n",
      "60 tensor(0.4968)\n",
      "80 tensor(0.4900)\n",
      "100 tensor(0.4849)\n",
      "120 tensor(0.4794)\n",
      "140 tensor(0.4741)\n",
      "160 tensor(0.4732)\n",
      "180 tensor(0.4696)\n",
      "200 tensor(0.4700)\n",
      "220 tensor(0.4672)\n",
      "240 tensor(0.4672)\n",
      "260 tensor(0.4655)\n",
      "280 tensor(0.4659)\n",
      "300 tensor(0.4647)\n"
     ]
    }
   ],
   "source": [
    "# Storing predictions per iterations to visualise later\n",
    "predictions = []\n",
    "\n",
    "optimizer = torch.optim.Adam(r.parameters(), lr=1e-2)\n",
    "loss_func = nn.L1Loss()\n",
    "\n",
    "for t in range(301):\n",
    "    hidden = None\n",
    "    inp = Variable(torch.Tensor(train_inp.reshape((train_inp.shape[0], -1, 1))), requires_grad=True)\n",
    "    out = Variable(torch.Tensor(train_out.reshape((train_out.shape[0], -1, 1))) )\n",
    "    pred = r(inp)\n",
    "    optimizer.zero_grad()\n",
    "    predictions.append(pred.data.numpy())\n",
    "    loss = loss_func(pred, out)\n",
    "    if t%20==0:\n",
    "        print(t, loss.data[0])\n",
    "    loss.backward()\n",
    "    optimizer.step()"
   ]
  },
  {
   "cell_type": "code",
   "execution_count": 25,
   "metadata": {},
   "outputs": [],
   "source": [
    "t_inp = Variable(torch.Tensor(test_inp.reshape((test_inp.shape[0], -1, 1))), requires_grad=True)\n",
    "pred_t = r(t_inp)"
   ]
  },
  {
   "cell_type": "code",
   "execution_count": 26,
   "metadata": {},
   "outputs": [
    {
     "data": {
      "text/plain": [
       "Text(0.5, 1.0, 'Sample num: 23')"
      ]
     },
     "execution_count": 26,
     "metadata": {},
     "output_type": "execute_result"
    },
    {
     "data": {
      "image/png": "[encoded data removed]",
      "text/plain": [
       "<Figure size 432x288 with 1 Axes>"
      ]
     },
     "metadata": {
      "needs_background": "light"
     },
     "output_type": "display_data"
    }
   ],
   "source": [
    "sample_num = 23\n",
    "plt.plot(pred_t[sample_num].data.numpy(), label='Pred')\n",
    "plt.plot(test_out[sample_num], label='GT')\n",
    "plt.legend()\n",
    "plt.title(\"Sample num: {}\".format(sample_num))"
   ]
  },
  {
   "cell_type": "code",
   "execution_count": null,
   "metadata": {},
   "outputs": [],
   "source": [
    "<matplotlib.text.Text at 0x1064675c0>\n"
   ]
  }
 ],
 "metadata": {
  "kernelspec": {
   "display_name": "Python 3",
   "language": "python",
   "name": "python3"
  },
  "language_info": {
   "codemirror_mode": {
    "name": "ipython",
    "version": 3
   },
   "file_extension": ".py",
   "mimetype": "text/x-python",
   "name": "python",
   "nbconvert_exporter": "python",
   "pygments_lexer": "ipython3",
   "version": "3.6.5"
  }
 },
 "nbformat": 4,
 "nbformat_minor": 2
}
